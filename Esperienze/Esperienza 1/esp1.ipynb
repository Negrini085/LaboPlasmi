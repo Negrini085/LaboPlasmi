{
 "cells": [
  {
   "cell_type": "code",
   "execution_count": 1,
   "metadata": {},
   "outputs": [],
   "source": [
    "import math\n",
    "import numpy as np\n",
    "import pandas as pd\n",
    "import matplotlib.pyplot as plt\n",
    "from scipy.optimize import curve_fit\n",
    "from matplotlib import cm\n",
    "\n",
    "from PIL import Image"
   ]
  },
  {
   "cell_type": "markdown",
   "metadata": {},
   "source": [
    "<div style=\"text-align: center;\">\n",
    "    <span style=\"color: red; font-size: 80px;\"> Esperienza 1 </span>\n",
    "</div>"
   ]
  },
  {
   "cell_type": "markdown",
   "metadata": {},
   "source": [
    "<div style=\"text-align: center;\">\n",
    "    <span style=\"color: blue; font-size: 60px;\"> Calibrazione </span>\n",
    "</div>"
   ]
  },
  {
   "cell_type": "markdown",
   "metadata": {},
   "source": [
    "<div style=\"text-align: center;\">\n",
    "    <span style=\"color: grey; font-size: 45px;\"> Studio delle immagini </span>\n",
    "</div>"
   ]
  },
  {
   "cell_type": "markdown",
   "metadata": {},
   "source": [
    "Le istantanee di plasma prese in fase di calibrazione sono 32: avendole aperte tutte posso affermare con certezza che nessuna delle immagini è corrotta. Procedo ad effettuare lo studio delle immagini considerandole tutte."
   ]
  },
  {
   "cell_type": "code",
   "execution_count": 42,
   "metadata": {},
   "outputs": [],
   "source": [
    "col = 1224\n",
    "row = 1024"
   ]
  },
  {
   "cell_type": "markdown",
   "metadata": {},
   "source": [
    "Le funzioni che verranno utilizzate per la pulizia sono le stesse che utilizzavo nel notebook dell'esperienza zero, ossia quella di calibrazione della trappola di Malberg-Penning ElTrap."
   ]
  },
  {
   "cell_type": "code",
   "execution_count": 43,
   "metadata": {},
   "outputs": [],
   "source": [
    "# Function to compute mean noise\n",
    "def mean_noise(base, num_im):\n",
    "    appo = 0\n",
    "    m_noise = 0\n",
    "\n",
    "    for i in range(1, num_im + 1):\n",
    "        path = base + \"{:03d}\".format(i) + \".tif\"\n",
    "        m_noise = m_noise * i/(i+1) + np.array(Image.open(path))/(i+1)\n",
    "\n",
    "    del appo\n",
    "    return m_noise\n",
    "\n",
    "\n",
    "# Function to set outside pixel to zero\n",
    "def est_nullo(plasma, mean_noise, radius, xcen, ycen):\n",
    "    x = np.linspace(-xcen, col - xcen, col)\n",
    "    y = np.linspace(-ycen, row - ycen, row)\n",
    "\n",
    "    # Creating mash grid to check wether we are in trap or not\n",
    "    X, Y = np.meshgrid(x, y)\n",
    "    \n",
    "    plasma = plasma - mean_noise\n",
    "\n",
    "    mask = plasma < 0\n",
    "    plasma[mask] = 0\n",
    "\n",
    "    mask = (X*X + Y*Y) > pow(radius, 2)\n",
    "    plasma[mask] = 0\n",
    "\n",
    "    del mask, x, y, X, Y\n",
    "    return plasma\n",
    "\n",
    "\n",
    "# Function to reduce additional noise\n",
    "def no_rifl(plasma, r_pl, r_trap, xcen, ycen):\n",
    "    x = np.linspace(-xcen, col - xcen, col)\n",
    "    y = np.linspace(-ycen, row - ycen, row)\n",
    "\n",
    "    X, Y = np.meshgrid(x, y)\n",
    "\n",
    "    mask = ((X*X + Y*Y) < pow(r_trap, 2)) & ((X*X + Y*Y) > pow(r_pl, 2))\n",
    "    appo = np.mean(plasma[mask])\n",
    "\n",
    "    mask = (X*X + Y*Y) < pow(r_trap, 2)\n",
    "    plasma[mask] = plasma[mask] - appo\n",
    "\n",
    "    mask = plasma < 0\n",
    "    plasma[mask] = 0\n",
    "    \n",
    "    del x, y, X, Y, appo, mask\n",
    "    return plasma\n"
   ]
  },
  {
   "cell_type": "markdown",
   "metadata": {},
   "source": [
    "<center>\n",
    "\n",
    "### Stampa delle immagini pulite\n",
    "\n",
    "</center>"
   ]
  },
  {
   "cell_type": "code",
   "execution_count": 44,
   "metadata": {},
   "outputs": [
    {
     "ename": "FileNotFoundError",
     "evalue": "[Errno 2] No such file or directory: 'Dati/CAMimages/dark2x2/dark001.tif'",
     "output_type": "error",
     "traceback": [
      "\u001b[0;31m---------------------------------------------------------------------------\u001b[0m",
      "\u001b[0;31mFileNotFoundError\u001b[0m                         Traceback (most recent call last)",
      "Cell \u001b[0;32mIn[44], line 1\u001b[0m\n\u001b[0;32m----> 1\u001b[0m rum_med \u001b[38;5;241m=\u001b[39m \u001b[43mmean_noise\u001b[49m\u001b[43m(\u001b[49m\u001b[38;5;124;43m\"\u001b[39;49m\u001b[38;5;124;43mDati/CAMimages/dark2x2/dark\u001b[39;49m\u001b[38;5;124;43m\"\u001b[39;49m\u001b[43m,\u001b[49m\u001b[43m \u001b[49m\u001b[38;5;241;43m80\u001b[39;49m\u001b[43m)\u001b[49m \n\u001b[1;32m      2\u001b[0m xcen \u001b[38;5;241m=\u001b[39m \u001b[38;5;241m612\u001b[39m; ycen \u001b[38;5;241m=\u001b[39m \u001b[38;5;241m502\u001b[39m; r_pl \u001b[38;5;241m=\u001b[39m \u001b[38;5;241m320\u001b[39m; rtrap \u001b[38;5;241m=\u001b[39m \u001b[38;5;241m419\u001b[39m\n\u001b[1;32m      4\u001b[0m conta \u001b[38;5;241m=\u001b[39m \u001b[38;5;241m1\u001b[39m\n",
      "Cell \u001b[0;32mIn[43], line 8\u001b[0m, in \u001b[0;36mmean_noise\u001b[0;34m(base, num_im)\u001b[0m\n\u001b[1;32m      6\u001b[0m \u001b[38;5;28;01mfor\u001b[39;00m i \u001b[38;5;129;01min\u001b[39;00m \u001b[38;5;28mrange\u001b[39m(\u001b[38;5;241m1\u001b[39m, num_im \u001b[38;5;241m+\u001b[39m \u001b[38;5;241m1\u001b[39m):\n\u001b[1;32m      7\u001b[0m     path \u001b[38;5;241m=\u001b[39m base \u001b[38;5;241m+\u001b[39m \u001b[38;5;124m\"\u001b[39m\u001b[38;5;132;01m{:03d}\u001b[39;00m\u001b[38;5;124m\"\u001b[39m\u001b[38;5;241m.\u001b[39mformat(i) \u001b[38;5;241m+\u001b[39m \u001b[38;5;124m\"\u001b[39m\u001b[38;5;124m.tif\u001b[39m\u001b[38;5;124m\"\u001b[39m\n\u001b[0;32m----> 8\u001b[0m     m_noise \u001b[38;5;241m=\u001b[39m m_noise \u001b[38;5;241m*\u001b[39m i\u001b[38;5;241m/\u001b[39m(i\u001b[38;5;241m+\u001b[39m\u001b[38;5;241m1\u001b[39m) \u001b[38;5;241m+\u001b[39m np\u001b[38;5;241m.\u001b[39marray(\u001b[43mImage\u001b[49m\u001b[38;5;241;43m.\u001b[39;49m\u001b[43mopen\u001b[49m\u001b[43m(\u001b[49m\u001b[43mpath\u001b[49m\u001b[43m)\u001b[49m)\u001b[38;5;241m/\u001b[39m(i\u001b[38;5;241m+\u001b[39m\u001b[38;5;241m1\u001b[39m)\n\u001b[1;32m     10\u001b[0m \u001b[38;5;28;01mdel\u001b[39;00m appo\n\u001b[1;32m     11\u001b[0m \u001b[38;5;28;01mreturn\u001b[39;00m m_noise\n",
      "File \u001b[0;32m/usr/lib/python3/dist-packages/PIL/Image.py:2953\u001b[0m, in \u001b[0;36mopen\u001b[0;34m(fp, mode, formats)\u001b[0m\n\u001b[1;32m   2950\u001b[0m     filename \u001b[38;5;241m=\u001b[39m fp\n\u001b[1;32m   2952\u001b[0m \u001b[38;5;28;01mif\u001b[39;00m filename:\n\u001b[0;32m-> 2953\u001b[0m     fp \u001b[38;5;241m=\u001b[39m \u001b[43mbuiltins\u001b[49m\u001b[38;5;241;43m.\u001b[39;49m\u001b[43mopen\u001b[49m\u001b[43m(\u001b[49m\u001b[43mfilename\u001b[49m\u001b[43m,\u001b[49m\u001b[43m \u001b[49m\u001b[38;5;124;43m\"\u001b[39;49m\u001b[38;5;124;43mrb\u001b[39;49m\u001b[38;5;124;43m\"\u001b[39;49m\u001b[43m)\u001b[49m\n\u001b[1;32m   2954\u001b[0m     exclusive_fp \u001b[38;5;241m=\u001b[39m \u001b[38;5;28;01mTrue\u001b[39;00m\n\u001b[1;32m   2956\u001b[0m \u001b[38;5;28;01mtry\u001b[39;00m:\n",
      "\u001b[0;31mFileNotFoundError\u001b[0m: [Errno 2] No such file or directory: 'Dati/CAMimages/dark2x2/dark001.tif'"
     ]
    }
   ],
   "source": [
    "rum_med = mean_noise(\"Dati/CAMimages/dark/dark\", 80) \n",
    "xcen = 612; ycen = 502; r_pl = 320; rtrap = 419\n",
    "\n",
    "conta = 1\n",
    "for i in range(1, 34):\n",
    "\n",
    "    path = \"Dati/CAMimages/calibrazione/calibplasma\" + \"{:03d}\".format(i) + \".tif\"\n",
    "\n",
    "    plasma = np.array(Image.open(path))\n",
    "    plasma = plasma.reshape(1024, 1224)\n",
    "\n",
    "    plasma = est_nullo(plasma, rum_med, rtrap, xcen, ycen)\n",
    "    plasma = no_rifl(plasma, r_pl, rtrap, xcen, ycen)\n",
    "\n",
    "    # Salvo l'immagine\n",
    "    path = \"Dati/CAMimages/plasma_pulite/plasma\" + \"{:03d}\".format(conta) + \".tif\"\n",
    "\n",
    "    image = Image.fromarray(plasma)\n",
    "    image.save(path)\n",
    "    conta += 1\n",
    "\n",
    "del rum_med, plasma, image, conta\n",
    "del xcen, ycen, r_pl, rtrap, path"
   ]
  }
 ],
 "metadata": {
  "kernelspec": {
   "display_name": "Python 3",
   "language": "python",
   "name": "python3"
  },
  "language_info": {
   "codemirror_mode": {
    "name": "ipython",
    "version": 3
   },
   "file_extension": ".py",
   "mimetype": "text/x-python",
   "name": "python",
   "nbconvert_exporter": "python",
   "pygments_lexer": "ipython3",
   "version": "3.10.12"
  }
 },
 "nbformat": 4,
 "nbformat_minor": 2
}
