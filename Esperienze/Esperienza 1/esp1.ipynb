{
 "cells": [
  {
   "cell_type": "code",
   "execution_count": 1,
   "metadata": {},
   "outputs": [],
   "source": [
    "import math\n",
    "import numpy as np\n",
    "import pandas as pd\n",
    "import matplotlib.pyplot as plt\n",
    "from scipy.optimize import curve_fit\n",
    "from matplotlib import cm\n",
    "\n",
    "from PIL import Image"
   ]
  },
  {
   "cell_type": "markdown",
   "metadata": {},
   "source": [
    "<div style=\"text-align: center;\">\n",
    "    <span style=\"color: red; font-size: 80px;\"> Esperienza 1 </span>\n",
    "</div>"
   ]
  },
  {
   "cell_type": "markdown",
   "metadata": {},
   "source": [
    "<div style=\"text-align: center;\">\n",
    "    <span style=\"color: blue; font-size: 60px;\"> Calibrazione </span>\n",
    "</div>"
   ]
  },
  {
   "cell_type": "markdown",
   "metadata": {},
   "source": [
    "<div style=\"text-align: center;\">\n",
    "    <span style=\"color: grey; font-size: 45px;\"> Studio delle immagini </span>\n",
    "</div>"
   ]
  },
  {
   "cell_type": "markdown",
   "metadata": {},
   "source": [
    "Le istantanee di plasma prese in fase di calibrazione sono 32: avendole aperte tutte posso affermare con certezza che nessuna delle immagini è corrotta. Procedo ad effettuare lo studio delle immagini considerandole tutte."
   ]
  },
  {
   "cell_type": "code",
   "execution_count": 42,
   "metadata": {},
   "outputs": [],
   "source": [
    "col = 1224\n",
    "row = 1024"
   ]
  },
  {
   "cell_type": "markdown",
   "metadata": {},
   "source": [
    "Le funzioni che verranno utilizzate per la pulizia sono le stesse che utilizzavo nel notebook dell'esperienza zero, ossia quella di calibrazione della trappola di Malberg-Penning ElTrap."
   ]
  },
  {
   "cell_type": "code",
   "execution_count": 43,
   "metadata": {},
   "outputs": [],
   "source": [
    "# Function to compute mean noise\n",
    "def mean_noise(base, num_im):\n",
    "    appo = 0\n",
    "    m_noise = 0\n",
    "\n",
    "    for i in range(1, num_im + 1):\n",
    "        path = base + \"{:03d}\".format(i) + \".tif\"\n",
    "        m_noise = m_noise * i/(i+1) + np.array(Image.open(path))/(i+1)\n",
    "\n",
    "    del appo\n",
    "    return m_noise\n",
    "\n",
    "\n",
    "# Function to set outside pixel to zero\n",
    "def est_nullo(plasma, mean_noise, radius, xcen, ycen):\n",
    "    x = np.linspace(-xcen, col - xcen, col)\n",
    "    y = np.linspace(-ycen, row - ycen, row)\n",
    "\n",
    "    # Creating mash grid to check wether we are in trap or not\n",
    "    X, Y = np.meshgrid(x, y)\n",
    "    \n",
    "    plasma = plasma - mean_noise\n",
    "\n",
    "    mask = plasma < 0\n",
    "    plasma[mask] = 0\n",
    "\n",
    "    mask = (X*X + Y*Y) > pow(radius, 2)\n",
    "    plasma[mask] = 0\n",
    "\n",
    "    del mask, x, y, X, Y\n",
    "    return plasma\n",
    "\n",
    "\n",
    "# Function to reduce additional noise\n",
    "def no_rifl(plasma, r_pl, r_trap, xcen, ycen):\n",
    "    x = np.linspace(-xcen, col - xcen, col)\n",
    "    y = np.linspace(-ycen, row - ycen, row)\n",
    "\n",
    "    X, Y = np.meshgrid(x, y)\n",
    "\n",
    "    mask = ((X*X + Y*Y) < pow(r_trap, 2)) & ((X*X + Y*Y) > pow(r_pl, 2))\n",
    "    appo = np.mean(plasma[mask])\n",
    "\n",
    "    mask = (X*X + Y*Y) < pow(r_trap, 2)\n",
    "    plasma[mask] = plasma[mask] - appo\n",
    "\n",
    "    mask = plasma < 0\n",
    "    plasma[mask] = 0\n",
    "    \n",
    "    del x, y, X, Y, appo, mask\n",
    "    return plasma\n"
   ]
  },
  {
   "cell_type": "markdown",
   "metadata": {},
   "source": [
    "<center>\n",
    "\n",
    "### Stampa delle immagini pulite\n",
    "\n",
    "</center>"
   ]
  },
  {
   "cell_type": "code",
   "execution_count": 47,
   "metadata": {},
   "outputs": [],
   "source": [
    "rum_med = mean_noise(\"Dati/CAMimages/dark/dark\", 80) \n",
    "xcen = 612; ycen = 502; r_pl = 320; rtrap = 419\n",
    "\n",
    "conta = 1\n",
    "for i in range(1, 33):\n",
    "\n",
    "    path = \"Dati/CAMimages/calibrazione/calibplasma\" + \"{:03d}\".format(i) + \".tif\"\n",
    "\n",
    "    plasma = np.array(Image.open(path))\n",
    "    plasma = plasma.reshape(1024, 1224)\n",
    "\n",
    "    plasma = est_nullo(plasma, rum_med, rtrap, xcen, ycen)\n",
    "    plasma = no_rifl(plasma, r_pl, rtrap, xcen, ycen)\n",
    "\n",
    "    # Salvo l'immagine\n",
    "    path = \"Dati/CAMimages/plasma_pulite/plasma\" + \"{:03d}\".format(conta) + \".tif\"\n",
    "\n",
    "    image = Image.fromarray(plasma)\n",
    "    image.save(path)\n",
    "    conta += 1\n",
    "\n",
    "del rum_med, plasma, image, conta\n",
    "del xcen, ycen, r_pl, rtrap, path"
   ]
  },
  {
   "cell_type": "markdown",
   "metadata": {},
   "source": [
    "<center>\n",
    "\n",
    "### Calcolo dell'intensità media\n",
    "\n",
    "</center>"
   ]
  },
  {
   "cell_type": "code",
   "execution_count": 48,
   "metadata": {},
   "outputs": [
    {
     "name": "stdout",
     "output_type": "stream",
     "text": [
      "L'intensità media delle immagini di plasma è:  31620138\n"
     ]
    }
   ],
   "source": [
    "int_media = 0\n",
    "\n",
    "for i in range(1, 33):\n",
    "    path = \"Dati/CAMimages/plasma_pulite/plasma\" + \"{:03d}\".format(i) + \".tif\"\n",
    "    plasma = np.array(Image.open(path))\n",
    "    plasma = plasma.reshape(1024, 1224)\n",
    "\n",
    "    int_media = int_media * (i-1)/i + sum(sum(plasma))/i\n",
    "\n",
    "del path, plasma\n",
    "print(\"L'intensità media delle immagini di plasma è: \", int(int_media))"
   ]
  },
  {
   "cell_type": "markdown",
   "metadata": {},
   "source": [
    "<div style=\"text-align: center;\">\n",
    "    <span style=\"color: grey; font-size: 45px;\"> Studio della scarica </span>\n",
    "</div>"
   ]
  },
  {
   "cell_type": "code",
   "execution_count": 50,
   "metadata": {},
   "outputs": [],
   "source": [
    "def moving_av(data, window_size):\n",
    "    return np.convolve(data, np.ones(window_size)/window_size, mode='valid')\n",
    "\n",
    "def exp_func(x, a, b):\n",
    "    return a * np.exp(b * x)"
   ]
  },
  {
   "cell_type": "markdown",
   "metadata": {},
   "source": [
    "<center>\n",
    "\n",
    "### Scarica ionica\n",
    "\n",
    "</center>"
   ]
  },
  {
   "cell_type": "markdown",
   "metadata": {},
   "source": [
    "I venti segnali di scarica ionica sono tutti simili fra loro e non presentano criticità. Per questo motivo per quantificare la carica positiva presente nella trappola, utilizzo tutti i venti segnali."
   ]
  },
  {
   "cell_type": "code",
   "execution_count": 98,
   "metadata": {},
   "outputs": [
    {
     "name": "stdout",
     "output_type": "stream",
     "text": [
      "La carica media della popolazione ionica risulta: 1.35e-11 +/- 7e-13 C\n"
     ]
    }
   ],
   "source": [
    "udm_v = 1e-3; udm_t = 1e-3\n",
    "res = 1e6; car_ioni = []\n",
    "\n",
    "for i in range(1, 21):\n",
    "\n",
    "    #----------------------------------------#\n",
    "    #          Lettura file di input         #\n",
    "    #----------------------------------------#\n",
    "    filename = 'Dati/Signals/calibration/idischarge/idischarge_' + \"{:02d}\".format(i) + '.txt'\n",
    "\n",
    "    data = pd.read_csv(filename, delim_whitespace=True, skiprows=3, header=None)\n",
    "    t = data[0].astype(float) * udm_t; v = data[1].astype(float) * udm_v\n",
    "\n",
    "\n",
    "    #----------------------------------------#\n",
    "    #      Calcolo offset e sottrazione      #\n",
    "    #----------------------------------------#\n",
    "    v_off = np.mean(v[:30000])\n",
    "    v = v - v_off\n",
    "\n",
    "\n",
    "    #----------------------------------------#\n",
    "    #          Smoothing del segnale         #\n",
    "    #----------------------------------------#      \n",
    "    v_smooth = moving_av(v, window_size = 100)\n",
    "    t = t[:len(v_smooth)]\n",
    "\n",
    "\n",
    "    #----------------------------------------#\n",
    "    #             Fit esponenziale           #\n",
    "    #----------------------------------------#   \n",
    "    t_fit = t[41000:60000]\n",
    "    popt, pcov = curve_fit(exp_func, t_fit, v_smooth[41000:60000])\n",
    "    a, b = popt\n",
    "\n",
    "\n",
    "    #----------------------------------------#\n",
    "    #          Calcolo della carica          #\n",
    "    #----------------------------------------#\n",
    "    mask = t > 0; dt = t[155] - t[154]; cap = -1.0/(b * res)\n",
    "    car_ioni.append(np.sum(v_smooth[mask]) * dt/res + np.mean(v_smooth[len(v_smooth) - 101 : len(v_smooth) - 1]) * cap)\n",
    "\n",
    "car_ioni = np.array(car_ioni)\n",
    "print(\"La carica media della popolazione ionica risulta: \" + str(round(np.mean(car_ioni), 13))+ r\" +/- \" + str(round(np.std(car_ioni), 13)) + \" C\")\n",
    "del res, udm_v, udm_t, mask, dt, a, b, t_fit, t, v, v_smooth, cap"
   ]
  },
  {
   "cell_type": "markdown",
   "metadata": {},
   "source": [
    "<center>\n",
    "\n",
    "### Scarica elettronica\n",
    "\n",
    "</center>"
   ]
  },
  {
   "cell_type": "code",
   "execution_count": null,
   "metadata": {},
   "outputs": [],
   "source": []
  }
 ],
 "metadata": {
  "kernelspec": {
   "display_name": "Python 3",
   "language": "python",
   "name": "python3"
  },
  "language_info": {
   "codemirror_mode": {
    "name": "ipython",
    "version": 3
   },
   "file_extension": ".py",
   "mimetype": "text/x-python",
   "name": "python",
   "nbconvert_exporter": "python",
   "pygments_lexer": "ipython3",
   "version": "3.10.12"
  }
 },
 "nbformat": 4,
 "nbformat_minor": 2
}
